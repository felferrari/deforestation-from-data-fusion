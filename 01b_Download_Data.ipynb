{
 "cells": [
  {
   "cell_type": "code",
   "execution_count": 1,
   "id": "2770d1d7",
   "metadata": {},
   "outputs": [],
   "source": [
    "%load_ext autoreload\n",
    "%autoreload 2"
   ]
  },
  {
   "cell_type": "code",
   "execution_count": 2,
   "id": "7c56f2c6",
   "metadata": {},
   "outputs": [],
   "source": [
    "from ops.gee import export_opt_rgb, export_sar_rgb, export_cloud_map, export_opt_2a, export_sar\n",
    "from ops.gee import export_edge, export_cirrus, export_opt_1c, export_cloud_scl\n",
    "from ops.ops import load_json\n",
    "import ee\n",
    "#import geemap\n",
    "import fiona\n",
    "import time\n",
    "#import json\n",
    "import os\n",
    "import datetime\n",
    "from tqdm.notebook import tqdm_notebook"
   ]
  },
  {
   "cell_type": "code",
   "execution_count": 3,
   "id": "95f8323d",
   "metadata": {},
   "outputs": [
    {
     "data": {
      "text/html": [
       "<p>To authorize access needed by Earth Engine, open the following\n",
       "        URL in a web browser and follow the instructions:</p>\n",
       "        <p><a href=https://code.earthengine.google.com/client-auth?scopes=https%3A//www.googleapis.com/auth/earthengine%20https%3A//www.googleapis.com/auth/devstorage.full_control&request_id=mFc_h3HjkWeJQzvYzggPArtgRB95lo5WMksoYUjN10M&tc=86dH-VKZhz8gSk1t9mstcL8lzWrf8r_MNGsSdigyEEQ&cc=5boDhd0wG1FkpLjbp9Ub0kIHoEQQ6xo1s1QRlqzWvhE>https://code.earthengine.google.com/client-auth?scopes=https%3A//www.googleapis.com/auth/earthengine%20https%3A//www.googleapis.com/auth/devstorage.full_control&request_id=mFc_h3HjkWeJQzvYzggPArtgRB95lo5WMksoYUjN10M&tc=86dH-VKZhz8gSk1t9mstcL8lzWrf8r_MNGsSdigyEEQ&cc=5boDhd0wG1FkpLjbp9Ub0kIHoEQQ6xo1s1QRlqzWvhE</a></p>\n",
       "        <p>The authorization workflow will generate a code, which you\n",
       "        should paste in the box below</p>\n",
       "        "
      ],
      "text/plain": [
       "<IPython.core.display.HTML object>"
      ]
     },
     "metadata": {},
     "output_type": "display_data"
    },
    {
     "name": "stdout",
     "output_type": "stream",
     "text": [
      "Enter verification code: 4/1AX4XfWjyMkYj18PxeJV7EBhLTgMXvPy6-0VRmvBtfBdlWmduE8F5qxdvq_E\n",
      "\n",
      "Successfully saved authorization token.\n"
     ]
    }
   ],
   "source": [
    "ee.Authenticate()\n",
    "ee.Initialize()"
   ]
  },
  {
   "cell_type": "code",
   "execution_count": 4,
   "id": "210a9c12",
   "metadata": {},
   "outputs": [],
   "source": [
    "paths = load_json(os.path.join('conf', 'paths.json'))\n",
    "shp = load_json(os.path.join('conf', 'shp.json'))\n",
    "shp_path = paths['shp']\n",
    "conf = load_json(os.path.join('conf', 'conf.json'))"
   ]
  },
  {
   "cell_type": "code",
   "execution_count": 5,
   "id": "4f3230ba",
   "metadata": {},
   "outputs": [],
   "source": [
    "img_source = 'l2'\n",
    "grid_shp = shp[f'shp_download_{img_source}']\n",
    "grid_save = os.path.join('shp', f\"{grid_shp}.shp\")"
   ]
  },
  {
   "cell_type": "markdown",
   "id": "aeec4ab4",
   "metadata": {},
   "source": [
    "## Download L-2A images"
   ]
  },
  {
   "cell_type": "code",
   "execution_count": 6,
   "id": "ec828f1d",
   "metadata": {},
   "outputs": [
    {
     "data": {
      "application/vnd.jupyter.widget-view+json": {
       "model_id": "75e3cc3e0e044e5c9c1d0959e729f404",
       "version_major": 2,
       "version_minor": 0
      },
      "text/plain": [
       "  0%|          | 0/30 [00:00<?, ?it/s]"
      ]
     },
     "metadata": {},
     "output_type": "display_data"
    },
    {
     "ename": "NameError",
     "evalue": "name 'export_SCL' is not defined",
     "output_type": "error",
     "traceback": [
      "\u001b[1;31m---------------------------------------------------------------------------\u001b[0m",
      "\u001b[1;31mNameError\u001b[0m                                 Traceback (most recent call last)",
      "\u001b[1;32mC:\\Users\\Public\\Documents\\Wondershare\\CreatorTemp/ipykernel_9192/3480241335.py\u001b[0m in \u001b[0;36m<module>\u001b[1;34m\u001b[0m\n\u001b[0;32m     33\u001b[0m         \u001b[0mt11\u001b[0m \u001b[1;33m=\u001b[0m \u001b[0mexport_cloud_map\u001b[0m\u001b[1;33m(\u001b[0m\u001b[0mmax_pm\u001b[0m\u001b[1;33m,\u001b[0m \u001b[0mroi\u001b[0m\u001b[1;33m,\u001b[0m \u001b[1;34mf'{feat_id}_opt_max'\u001b[0m\u001b[1;33m)\u001b[0m\u001b[1;33m\u001b[0m\u001b[1;33m\u001b[0m\u001b[0m\n\u001b[0;32m     34\u001b[0m \u001b[1;33m\u001b[0m\u001b[0m\n\u001b[1;32m---> 35\u001b[1;33m         \u001b[0mt12\u001b[0m \u001b[1;33m=\u001b[0m \u001b[0mexport_SCL\u001b[0m\u001b[1;33m(\u001b[0m\u001b[0mopt_2019\u001b[0m\u001b[1;33m,\u001b[0m \u001b[0mroi\u001b[0m\u001b[1;33m,\u001b[0m \u001b[1;34mf'{feat_id}_scl_2019'\u001b[0m\u001b[1;33m)\u001b[0m\u001b[1;33m\u001b[0m\u001b[1;33m\u001b[0m\u001b[0m\n\u001b[0m\u001b[0;32m     36\u001b[0m         \u001b[0mt13\u001b[0m \u001b[1;33m=\u001b[0m \u001b[0mexport_SCL\u001b[0m\u001b[1;33m(\u001b[0m\u001b[0mopt_2020\u001b[0m\u001b[1;33m,\u001b[0m \u001b[0mroi\u001b[0m\u001b[1;33m,\u001b[0m \u001b[1;34mf'{feat_id}_scl_2020'\u001b[0m\u001b[1;33m)\u001b[0m\u001b[1;33m\u001b[0m\u001b[1;33m\u001b[0m\u001b[0m\n\u001b[0;32m     37\u001b[0m \u001b[1;33m\u001b[0m\u001b[0m\n",
      "\u001b[1;31mNameError\u001b[0m: name 'export_SCL' is not defined"
     ]
    }
   ],
   "source": [
    "img_source = 'l2'\n",
    "grid_shp = shp[f'shp_download_{img_source}']\n",
    "grid_save = os.path.join('shp', f\"{grid_shp}.shp\")\n",
    "\n",
    "with fiona.open(grid_save) as grid:\n",
    "    for feat in tqdm_notebook(grid):\n",
    "        roi = ee.Geometry(feat['geometry'])\n",
    "        feat_id = int(feat['properties']['id'])\n",
    "        \n",
    "        opt_2019 = ee.Image(feat['properties']['opt_2019'])\n",
    "        opt_2020 = ee.Image(feat['properties']['opt_2020'])\n",
    "        sar_2019 = ee.Image(feat['properties']['sar_2019'])\n",
    "        sar_2020 = ee.Image(feat['properties']['sar_2020'])\n",
    "        \n",
    "        opt_2019_pm = opt_2019.select(['MSK_CLDPRB'])\n",
    "        opt_2020_pm = opt_2020.select(['MSK_CLDPRB'])\n",
    "        max_pm = opt_2019_pm.max(opt_2020_pm)\n",
    "        \n",
    "        #crs = opt_2019.select('B2').projection().getInfo()\n",
    "        \n",
    "        t1 = export_opt_rgb(opt_2019, roi, f'{feat_id}_opt_2019')\n",
    "        t2 = export_opt_rgb(opt_2020, roi, f'{feat_id}_opt_2020')\n",
    "        t3 = export_sar_rgb(sar_2019, roi, f'{feat_id}_sar_2019')\n",
    "        t4 = export_sar_rgb(sar_2020, roi, f'{feat_id}_sar_2020')\n",
    "        \n",
    "        t5 = export_opt_2a(opt_2019, roi, f'{feat_id}_opt_2019')\n",
    "        t6 = export_opt_2a(opt_2020, roi, f'{feat_id}_opt_2020')\n",
    "        t7 = export_sar(sar_2019, roi, f'{feat_id}_sar_2019')\n",
    "        t8 = export_sar(sar_2020, roi, f'{feat_id}_sar_2020')\n",
    "        \n",
    "        t9  = export_cloud_map(opt_2019_pm, roi, f'{feat_id}_opt_2019')\n",
    "        t10 = export_cloud_map(opt_2020_pm, roi, f'{feat_id}_opt_2020')\n",
    "        t11 = export_cloud_map(max_pm, roi, f'{feat_id}_opt_max')\n",
    "        \n",
    "        t12 = export_SCL(opt_2019, roi, f'{feat_id}_scl_2019')\n",
    "        t13 = export_SCL(opt_2020, roi, f'{feat_id}_scl_2020')\n",
    "        \n",
    "        while t1.active() or t2.active() or t3.active() or t4.active() or t5.active() or t6.active() or t7.active() or t8.active() or t9.active() or t10.active() or t11.active() or t12.active() or t13.active():\n",
    "            time.sleep(20)\n",
    "            #print(f\"Waiting image download of {feat_id} RGB images...\")"
   ]
  },
  {
   "cell_type": "markdown",
   "id": "cae825d6",
   "metadata": {},
   "source": [
    "## Download L-2A (compact)\n",
    "Download SCL and cloud masks inside the optical data"
   ]
  },
  {
   "cell_type": "code",
   "execution_count": 8,
   "id": "a507deeb",
   "metadata": {},
   "outputs": [
    {
     "data": {
      "application/vnd.jupyter.widget-view+json": {
       "model_id": "3b513f13c5914d9ebbee7027555bbea6",
       "version_major": 2,
       "version_minor": 0
      },
      "text/plain": [
       "  0%|          | 0/30 [00:00<?, ?it/s]"
      ]
     },
     "metadata": {},
     "output_type": "display_data"
    }
   ],
   "source": [
    "img_source = 'l2'\n",
    "grid_shp = shp[f'shp_download_{img_source}']\n",
    "grid_save = os.path.join('shp', f\"{grid_shp}.shp\")\n",
    "\n",
    "with fiona.open(grid_save) as grid:\n",
    "    for feat in tqdm_notebook(grid):\n",
    "        roi = ee.Geometry(feat['geometry'])\n",
    "        feat_id = int(feat['properties']['id'])\n",
    "        \n",
    "        opt_2019 = ee.Image(feat['properties']['opt_2019'])\n",
    "        opt_2020 = ee.Image(feat['properties']['opt_2020'])\n",
    "        sar_2019 = ee.Image(feat['properties']['sar_2019'])\n",
    "        sar_2020 = ee.Image(feat['properties']['sar_2020'])\n",
    "        \n",
    "        t1 = export_opt_2a(opt_2019, roi, f'{feat_id}_opt_2019')\n",
    "        t2 = export_opt_2a(opt_2020, roi, f'{feat_id}_opt_2020')\n",
    "        t3 = export_sar(sar_2019, roi, f'{feat_id}_sar_2019')\n",
    "        t4 = export_sar(sar_2020, roi, f'{feat_id}_sar_2020')\n",
    "        \n",
    "        t5 = export_cloud_scl(opt_2019, roi, f'{feat_id}_cloud_scl_2019')\n",
    "        t6 = export_cloud_scl(opt_2020, roi, f'{feat_id}_cloud_scl_2020')\n",
    "        \n",
    "        while t1.active() or t2.active() or t3.active() or t4.active() or t5.active() or t6.active():\n",
    "            time.sleep(20)\n",
    "            #print(f\"Waiting image download of {feat_id} RGB images...\")"
   ]
  },
  {
   "cell_type": "markdown",
   "id": "13545365",
   "metadata": {},
   "source": [
    "## Download L-1C images"
   ]
  },
  {
   "cell_type": "code",
   "execution_count": 24,
   "id": "f618c684",
   "metadata": {},
   "outputs": [
    {
     "data": {
      "application/vnd.jupyter.widget-view+json": {
       "model_id": "55a2899b6ad040b59763d7e4ac34e524",
       "version_major": 2,
       "version_minor": 0
      },
      "text/plain": [
       "  0%|          | 0/30 [00:00<?, ?it/s]"
      ]
     },
     "metadata": {},
     "output_type": "display_data"
    }
   ],
   "source": [
    "img_source = 'l1'\n",
    "grid_shp = shp[f'shp_download_{img_source}']\n",
    "grid_save = os.path.join('shp', f\"{grid_shp}.shp\")\n",
    "\n",
    "with fiona.open(grid_save) as grid:\n",
    "    for feat in tqdm_notebook(grid):\n",
    "        roi = ee.Geometry(feat['geometry'])\n",
    "        feat_id = int(feat['properties']['id'])\n",
    "        \n",
    "        opt_2019 = ee.Image(feat['properties']['opt_2019'])\n",
    "        opt_2020 = ee.Image(feat['properties']['opt_2020'])\n",
    "        sar_2019 = ee.Image(feat['properties']['sar_2019'])\n",
    "        sar_2020 = ee.Image(feat['properties']['sar_2020'])\n",
    "        \n",
    "        t1 = export_opt_1c(opt_2019, roi, f'{feat_id}_opt_2019')\n",
    "        t2 = export_opt_1c(opt_2020, roi, f'{feat_id}_opt_2020')\n",
    "        t3 = export_sar(sar_2019, roi, f'{feat_id}_sar_2019')\n",
    "        t4 = export_sar(sar_2020, roi, f'{feat_id}_sar_2020')\n",
    "        \n",
    "        #t1 = export_opt_rgb(opt_2019, roi, f'{feat_id}_opt_2019')\n",
    "        #t2 = export_opt_rgb(opt_2020, roi, f'{feat_id}_opt_2020')\n",
    "        #t3 = export_sar_rgb(sar_2019, roi, f'{feat_id}_sar_2019')\n",
    "        #t4 = export_sar_rgb(sar_2020, roi, f'{feat_id}_sar_2020')\n",
    "        \n",
    "        while t1.active() or t2.active() or t3.active() or t4.active():\n",
    "            time.sleep(20)\n",
    "            #print(f\"Waiting image download of {feat_id} RGB images...\")"
   ]
  },
  {
   "cell_type": "markdown",
   "id": "10a23210",
   "metadata": {},
   "source": [
    "## Download Edge detections"
   ]
  },
  {
   "cell_type": "code",
   "execution_count": 17,
   "id": "a2fdaafb",
   "metadata": {},
   "outputs": [
    {
     "data": {
      "application/vnd.jupyter.widget-view+json": {
       "model_id": "5c800346abfe45499939ba6ce9b8ed10",
       "version_major": 2,
       "version_minor": 0
      },
      "text/plain": [
       "  0%|          | 0/30 [00:00<?, ?it/s]"
      ]
     },
     "metadata": {},
     "output_type": "display_data"
    }
   ],
   "source": [
    "        \n",
    "\n",
    "\n",
    "with fiona.open(grid_save) as grid:\n",
    "    for feat in tqdm_notebook(grid):\n",
    "        roi = ee.Geometry(feat['geometry'])\n",
    "        feat_id = int(feat['properties']['id'])\n",
    "        \n",
    "        opt_2019 = ee.Image(feat['properties']['opt_2019'])\n",
    "        opt_2020 = ee.Image(feat['properties']['opt_2020'])\n",
    "        sar_2019 = ee.Image(feat['properties']['sar_2019'])\n",
    "        sar_2020 = ee.Image(feat['properties']['sar_2020'])\n",
    "        \n",
    "        opt_2019_pm = opt_2019.select(['MSK_CLDPRB'])\n",
    "        opt_2020_pm = opt_2020.select(['MSK_CLDPRB'])\n",
    "        max_pm = opt_2019_pm.max(opt_2020_pm)\n",
    "        \n",
    "        edge = ee.Algorithms.CannyEdgeDetector(max_pm, 20,1)\n",
    "        \n",
    "        t1 = export_edge(edge, roi, f'{feat_id}_cmap_max_edge')\n",
    "        \n",
    "        while t1.active():\n",
    "            time.sleep(60)"
   ]
  },
  {
   "cell_type": "markdown",
   "id": "130f4026",
   "metadata": {},
   "source": [
    "## Download cirrus data"
   ]
  },
  {
   "cell_type": "code",
   "execution_count": 16,
   "id": "b1e1797c",
   "metadata": {},
   "outputs": [
    {
     "data": {
      "application/vnd.jupyter.widget-view+json": {
       "model_id": "9700f38553ad49129cfc5f9815cbbb61",
       "version_major": 2,
       "version_minor": 0
      },
      "text/plain": [
       "  0%|          | 0/30 [00:00<?, ?it/s]"
      ]
     },
     "metadata": {},
     "output_type": "display_data"
    }
   ],
   "source": [
    "with fiona.open(grid_save) as grid:\n",
    "    for feat in tqdm_notebook(grid):\n",
    "        roi = ee.Geometry(feat['geometry'])\n",
    "        feat_id = int(feat['properties']['id'])\n",
    "\n",
    "        \n",
    "        opt_2019 = ee.Image(feat['properties']['opt_2019'])\n",
    "        opt_2020 = ee.Image(feat['properties']['opt_2020'])\n",
    "        \n",
    "        t1 = export_cirrus(opt_2019, roi, f'{feat_id}_aot_2019')\n",
    "        t2 = export_cirrus(opt_2020, roi, f'{feat_id}_aot_2020')\n",
    "        \n",
    "        while t1.active() or t2.active():\n",
    "            time.sleep(60)"
   ]
  },
  {
   "cell_type": "markdown",
   "id": "ddc060e7",
   "metadata": {},
   "source": [
    "## Download Classification map"
   ]
  },
  {
   "cell_type": "code",
   "execution_count": 9,
   "id": "d9ce37c0",
   "metadata": {},
   "outputs": [
    {
     "data": {
      "application/vnd.jupyter.widget-view+json": {
       "model_id": "650cd82bd304475a9991e209e0351299",
       "version_major": 2,
       "version_minor": 0
      },
      "text/plain": [
       "  0%|          | 0/30 [00:00<?, ?it/s]"
      ]
     },
     "metadata": {},
     "output_type": "display_data"
    },
    {
     "ename": "KeyboardInterrupt",
     "evalue": "",
     "output_type": "error",
     "traceback": [
      "\u001b[1;31m---------------------------------------------------------------------------\u001b[0m",
      "\u001b[1;31mKeyboardInterrupt\u001b[0m                         Traceback (most recent call last)",
      "\u001b[1;32mC:\\Users\\FELFER~1\\AppData\\Local\\Temp/ipykernel_4204/2018426658.py\u001b[0m in \u001b[0;36m<module>\u001b[1;34m\u001b[0m\n\u001b[0;32m     12\u001b[0m \u001b[1;33m\u001b[0m\u001b[0m\n\u001b[0;32m     13\u001b[0m         \u001b[1;32mwhile\u001b[0m \u001b[0mt1\u001b[0m\u001b[1;33m.\u001b[0m\u001b[0mactive\u001b[0m\u001b[1;33m(\u001b[0m\u001b[1;33m)\u001b[0m \u001b[1;32mor\u001b[0m \u001b[0mt2\u001b[0m\u001b[1;33m.\u001b[0m\u001b[0mactive\u001b[0m\u001b[1;33m(\u001b[0m\u001b[1;33m)\u001b[0m\u001b[1;33m:\u001b[0m\u001b[1;33m\u001b[0m\u001b[1;33m\u001b[0m\u001b[0m\n\u001b[1;32m---> 14\u001b[1;33m             \u001b[0mtime\u001b[0m\u001b[1;33m.\u001b[0m\u001b[0msleep\u001b[0m\u001b[1;33m(\u001b[0m\u001b[1;36m60\u001b[0m\u001b[1;33m)\u001b[0m\u001b[1;33m\u001b[0m\u001b[1;33m\u001b[0m\u001b[0m\n\u001b[0m",
      "\u001b[1;31mKeyboardInterrupt\u001b[0m: "
     ]
    }
   ],
   "source": [
    "with fiona.open(grid_save) as grid:\n",
    "    for feat in tqdm_notebook(grid):\n",
    "        roi = ee.Geometry(feat['geometry'])\n",
    "        feat_id = int(feat['properties']['id'])\n",
    "\n",
    "        \n",
    "        opt_2019 = ee.Image(feat['properties']['opt_2019'])\n",
    "        opt_2020 = ee.Image(feat['properties']['opt_2020'])\n",
    "        \n",
    "        t1 = export_SCL(opt_2019, roi, f'{feat_id}_scl_2019')\n",
    "        t2 = export_SCL(opt_2020, roi, f'{feat_id}_scl_2020')\n",
    "        \n",
    "        while t1.active() or t2.active():\n",
    "            time.sleep(60)"
   ]
  },
  {
   "cell_type": "code",
   "execution_count": null,
   "id": "026b6993",
   "metadata": {},
   "outputs": [],
   "source": []
  }
 ],
 "metadata": {
  "kernelspec": {
   "display_name": "Python 3 (ipykernel)",
   "language": "python",
   "name": "python3"
  },
  "language_info": {
   "codemirror_mode": {
    "name": "ipython",
    "version": 3
   },
   "file_extension": ".py",
   "mimetype": "text/x-python",
   "name": "python",
   "nbconvert_exporter": "python",
   "pygments_lexer": "ipython3",
   "version": "3.8.11"
  }
 },
 "nbformat": 4,
 "nbformat_minor": 5
}
